{
 "cells": [
  {
   "cell_type": "markdown",
   "metadata": {
    "id": "zROEREAfF64T"
   },
   "source": [
    "# Loading The Datasets"
   ]
  },
  {
   "cell_type": "code",
   "execution_count": 9,
   "metadata": {
    "colab": {
     "base_uri": "https://localhost:8080/"
    },
    "executionInfo": {
     "elapsed": 1728,
     "status": "ok",
     "timestamp": 1734562177703,
     "user": {
      "displayName": "Muhamad Kussai Alawad",
      "userId": "07092718358044543588"
     },
     "user_tz": -60
    },
    "id": "9xOn0DtHl0aX",
    "outputId": "079ab62a-4be9-4c25-8ed4-fe159df44c77"
   },
   "outputs": [
    {
     "name": "stdout",
     "output_type": "stream",
     "text": [
      "Drive already mounted at /content/drive; to attempt to forcibly remount, call drive.mount(\"/content/drive\", force_remount=True).\n"
     ]
    }
   ],
   "source": [
    "from google.colab import drive\n",
    "drive.mount('/content/drive')"
   ]
  },
  {
   "cell_type": "code",
   "execution_count": 19,
   "metadata": {
    "colab": {
     "base_uri": "https://localhost:8080/"
    },
    "executionInfo": {
     "elapsed": 316,
     "status": "ok",
     "timestamp": 1734562806467,
     "user": {
      "displayName": "Muhamad Kussai Alawad",
      "userId": "07092718358044543588"
     },
     "user_tz": -60
    },
    "id": "splsC_OCGRW5",
    "outputId": "deeeefac-4d3b-4dcf-8676-2d0ab29bcb54"
   },
   "outputs": [
    {
     "name": "stdout",
     "output_type": "stream",
     "text": [
      "Current Working Directory: /content\n",
      "\n",
      "Files in Current Directory:\n",
      ".config\n",
      "drive\n",
      "sample_data\n"
     ]
    }
   ],
   "source": [
    "import numpy as np\n",
    "\n",
    "# Function to load NumPy arrays with error handling\n",
    "def load_numpy_array(file_name):\n",
    "    try:\n",
    "        data = np.load(file_name)\n",
    "        print(f\"Loaded {file_name} with shape {data.shape}\")\n",
    "        return data\n",
    "    except FileNotFoundError:\n",
    "        print(f\"Error: File not found - {file_name}\")\n",
    "        raise\n",
    "    except Exception as e:\n",
    "        print(f\"Error loading {file_name}: {e}\")\n",
    "        raise\n",
    "\n",
    "# Load the NumPy arrays\n",
    "X_train = load_numpy_array('X_training_f2_p2.npy')\n",
    "Y_train = load_numpy_array('Y_training_f2_p2.npy')\n",
    "\n",
    "X_train_dev = load_numpy_array('X_training_dev_f2_p2.npy')\n",
    "Y_train_dev = load_numpy_array('Y_training_dev_f2_p2.npy')\n",
    "\n",
    "X_dev = load_numpy_array('X_dev_f2_p2.npy')\n",
    "Y_dev = load_numpy_array('Y_dev_f2_p2.npy')\n",
    "\n",
    "X_test = load_numpy_array('X_test_f2_p2.npy')\n",
    "Y_test = load_numpy_array('Y_test_f2_p2.npy')\n",
    "\n",
    "X_train_empirical = load_numpy_array('X_train_empirical.npy')\n",
    "Y_train_empirical = load_numpy_array('Y_train_empirical.npy')\n",
    "\n",
    "# Optional: Verify loaded data shapes\n",
    "print(\"\\nData Loaded Successfully:\")\n",
    "print(f\"X_train shape: {X_train.shape}\")\n",
    "print(f\"Y_train shape: {Y_train.shape}\")\n",
    "print(f\"X_train_dev shape: {X_train_dev.shape}\")\n",
    "print(f\"Y_train_dev shape: {Y_train_dev.shape}\")\n",
    "print(f\"X_dev shape: {X_dev.shape}\")\n",
    "print(f\"Y_dev shape: {Y_dev.shape}\")\n",
    "print(f\"X_test shape: {X_test.shape}\")\n",
    "print(f\"Y_test shape: {Y_test.shape}\")\n",
    "print(f\"X_train_empirical shape: {X_train_empirical.shape}\")\n",
    "print(f\"Y_train_empirical shape: {Y_train_empirical.shape}\")\n"
   ]
  },
  {
   "cell_type": "code",
   "execution_count": null,
   "metadata": {
    "executionInfo": {
     "elapsed": 27,
     "status": "aborted",
     "timestamp": 1734562177703,
     "user": {
      "displayName": "Muhamad Kussai Alawad",
      "userId": "07092718358044543588"
     },
     "user_tz": -60
    },
    "id": "HzL_w84EGmvu"
   },
   "outputs": [],
   "source": [
    "import numpy as np\n",
    "\n",
    "# Load training data\n",
    "X_train = np.load(X_train_path)\n",
    "Y_train = np.load(Y_train_path)\n",
    "\n",
    "# Load training_dev data\n",
    "X_train_dev = np.load(X_train_dev_path)\n",
    "Y_train_dev = np.load(Y_train_dev_path)\n",
    "\n",
    "# Load dev data\n",
    "X_dev = np.load(X_dev_path)\n",
    "Y_dev = np.load(Y_dev_path)\n",
    "\n",
    "# Load test data\n",
    "X_test = np.load(X_test_path)\n",
    "Y_test = np.load(Y_test_path)\n",
    "\n",
    "#load empirical data\n",
    "X_train_empirical = np.load(X_train_empirical_path)\n",
    "Y_train_empirical = np.load(Y_train_empirical_path)\n",
    "\n",
    "print(\"✅ Successfully loaded all NumPy arrays including empirical data.\")\n"
   ]
  },
  {
   "cell_type": "code",
   "execution_count": null,
   "metadata": {
    "executionInfo": {
     "elapsed": 27,
     "status": "aborted",
     "timestamp": 1734562177703,
     "user": {
      "displayName": "Muhamad Kussai Alawad",
      "userId": "07092718358044543588"
     },
     "user_tz": -60
    },
    "id": "IMFau5kZGoOz"
   },
   "outputs": [],
   "source": [
    "print(f\"X_train shape: {X_train.shape}, Y_train shape: {Y_train.shape}\")\n",
    "print(f\"X_train_dev shape: {X_train_dev.shape}, Y_train_dev shape: {Y_train_dev.shape}\")\n",
    "print(f\"X_dev shape: {X_dev.shape}, Y_dev shape: {Y_dev.shape}\")\n",
    "print(f\"X_test shape: {X_test.shape}, Y_test shape: {Y_test.shape}\")\n",
    "\n",
    "print(f\"Data types - X: {X_train.dtype}, Y: {Y_train.dtype}\")\n",
    "\n",
    "print(f\"X_train_empirical shape: {X_train_empirical.shape}, Y_train_empirical shape: {Y_train_empirical.shape}\")\n"
   ]
  },
  {
   "cell_type": "markdown",
   "metadata": {
    "id": "opHllYdDGued"
   },
   "source": [
    "# Feature Scaling"
   ]
  },
  {
   "cell_type": "code",
   "execution_count": null,
   "metadata": {
    "executionInfo": {
     "elapsed": 28,
     "status": "aborted",
     "timestamp": 1734562177704,
     "user": {
      "displayName": "Muhamad Kussai Alawad",
      "userId": "07092718358044543588"
     },
     "user_tz": -60
    },
    "id": "OHc8OJ-UGsYd"
   },
   "outputs": [],
   "source": [
    "from sklearn.preprocessing import StandardScaler\n",
    "\n",
    "# Initialize the scaler\n",
    "scaler = StandardScaler()\n",
    "\n",
    "# Fit the scaler on the training data and transform\n",
    "X_train_scaled = scaler.fit_transform(X_train)\n",
    "X_train_dev_scaled = scaler.transform(X_train_dev)\n",
    "X_dev_scaled = scaler.transform(X_dev)\n",
    "X_test_scaled = scaler.transform(X_test)\n",
    "X_train_empirical_scaled = scaler.transform(X_train_empirical)\n",
    "\n",
    "print(\"✅ Feature scaling completed.\")\n"
   ]
  },
  {
   "cell_type": "code",
   "execution_count": null,
   "metadata": {
    "executionInfo": {
     "elapsed": 27,
     "status": "aborted",
     "timestamp": 1734562177704,
     "user": {
      "displayName": "Muhamad Kussai Alawad",
      "userId": "07092718358044543588"
     },
     "user_tz": -60
    },
    "id": "XLV618nBG1PP"
   },
   "outputs": [],
   "source": [
    "X_train_scaled = X_train_scaled.astype(np.float32)\n",
    "X_train_dev_scaled = X_train_dev_scaled.astype(np.float32)\n",
    "X_dev_scaled = X_dev_scaled.astype(np.float32)\n",
    "X_test_scaled = X_test_scaled.astype(np.float32)\n",
    "X_train_empirical_scaled = X_train_empirical_scaled.astype(np.float32)\n",
    "\n",
    "Y_train = Y_train.astype(np.float32)\n",
    "Y_train_dev = Y_train_dev.astype(np.float32)\n",
    "Y_dev = Y_dev.astype(np.float32)\n",
    "Y_test = Y_test.astype(np.float32)\n",
    "Y_train_empirical=Y_train_empirical.astype(np.float32)\n",
    "\n",
    "print(\"✅ Data type conversion completed.\")\n"
   ]
  },
  {
   "cell_type": "code",
   "execution_count": null,
   "metadata": {
    "executionInfo": {
     "elapsed": 27,
     "status": "aborted",
     "timestamp": 1734562177704,
     "user": {
      "displayName": "Muhamad Kussai Alawad",
      "userId": "07092718358044543588"
     },
     "user_tz": -60
    },
    "id": "s4jIrarYNjLZ"
   },
   "outputs": [],
   "source": [
    "print(f\"X_train shape: {X_train_scaled.shape}, Y_train shape: {Y_train.shape}\")\n",
    "print(f\"X_train_dev shape: {X_train_dev_scaled.shape}, Y_train_dev shape: {Y_train_dev.shape}\")\n",
    "print(f\"X_dev shape: {X_dev_scaled.shape}, Y_dev shape: {Y_dev.shape}\")\n",
    "print(f\"X_test shape: {X_test_scaled.shape}, Y_test shape: {Y_test.shape}\")\n",
    "print(f\"X_train_empirical shape: {X_train_empirical_scaled.shape}, Y_train_empirical shape: {Y_train_empirical.shape}\")\n",
    "\n",
    "print(f\"Data types - X: {X_train.dtype}, Y: {Y_train.dtype}\")"
   ]
  },
  {
   "cell_type": "markdown",
   "metadata": {
    "id": "iZhFKUXnHIFg"
   },
   "source": [
    "# Loading The Model"
   ]
  },
  {
   "cell_type": "code",
   "execution_count": null,
   "metadata": {
    "executionInfo": {
     "elapsed": 27,
     "status": "aborted",
     "timestamp": 1734562177704,
     "user": {
      "displayName": "Muhamad Kussai Alawad",
      "userId": "07092718358044543588"
     },
     "user_tz": -60
    },
    "id": "ZmIdr-OxHvuY"
   },
   "outputs": [],
   "source": [
    "import tensorflow as tf\n",
    "from tensorflow.keras.models import load_model\n",
    "\n",
    "# Specify the path to your .keras model file\n",
    "model_path = 'Model_v4.keras'\n",
    "\n",
    "# Load the model\n",
    "model = load_model(model_path)\n",
    "\n",
    "# Verify by printing the model summary\n",
    "model.summary()\n"
   ]
  },
  {
   "cell_type": "markdown",
   "metadata": {
    "id": "gcLvp_tletv9"
   },
   "source": [
    "# Error Analysis"
   ]
  },
  {
   "cell_type": "markdown",
   "metadata": {
    "id": "fEGio5cdZ-Hj"
   },
   "source": [
    "***1.Categorical Accuracy***"
   ]
  },
  {
   "cell_type": "code",
   "execution_count": null,
   "metadata": {
    "executionInfo": {
     "elapsed": 28,
     "status": "aborted",
     "timestamp": 1734562177705,
     "user": {
      "displayName": "Muhamad Kussai Alawad",
      "userId": "07092718358044543588"
     },
     "user_tz": -60
    },
    "id": "V9ep0CbyZ9hg"
   },
   "outputs": [],
   "source": [
    "Dev_accuracy=model.evaluate(X_dev_scaled,Y_dev)\n",
    "Test_accuracy=model.evaluate(X_test_scaled,Y_test)\n",
    "\n",
    "#Different training distributions (Empirical & Mixed)\n",
    "Train_empirical_accuracy=model.evaluate(X_train_empirical_scaled,Y_train_empirical)\n",
    "\n",
    "Train_mixed_accuracy=model.evaluate(X_train_scaled,Y_train)\n",
    "\n",
    "\n",
    "print(f\"Training Categorical Accuracy: {training_categorical_accuracy}\")\n",
    "print(f\"Training Dev accuracy: {training_dev_accuracy[1]}\")\n",
    "print(f\"Dev accuracy: {Dev_accuracy[1]}\")\n",
    "print(f\"Test accuracy: {Test_accuracy[1]}\")\n",
    "print(f\"Empirical accuracy: {Train_empirical_accuracy[1]}\")\n",
    "print(f'Mixed data accuracy: {Train_mixed_accuracy[1]}')"
   ]
  },
  {
   "cell_type": "markdown",
   "metadata": {
    "id": "88LhHo6QcWNG"
   },
   "source": [
    "***2.Error***"
   ]
  },
  {
   "cell_type": "code",
   "execution_count": null,
   "metadata": {
    "executionInfo": {
     "elapsed": 28,
     "status": "aborted",
     "timestamp": 1734562177705,
     "user": {
      "displayName": "Muhamad Kussai Alawad",
      "userId": "07092718358044543588"
     },
     "user_tz": -60
    },
    "id": "rNvJodTtbYxW"
   },
   "outputs": [],
   "source": [
    "Dev_Error=1-Dev_accuracy[1]\n",
    "print(f\"Dev Error: {Dev_Error}\")\n",
    "\n",
    "Test_Error=1-Test_accuracy[1]\n",
    "print(f\"Test_Error: {Test_Error}\")\n",
    "\n",
    "Train_empirical_Error=1-Train_empirical_accuracy[1]\n",
    "print(f\"Distribution II_Empirical Error (Actual Training dataset): {Train_empirical_Error}\")\n",
    "\n",
    "Train_mixed_Error=1-Train_mixed_accuracy[1]\n",
    "print(f\"Distribution I_Mixed Error (Previously used Training dataset): {Train_mixed_Error}\")\n"
   ]
  }
 ],
 "metadata": {
  "accelerator": "TPU",
  "colab": {
   "authorship_tag": "ABX9TyO96MK4EKJ8m+r985IQuIb1",
   "gpuType": "V28",
   "machine_shape": "hm",
   "provenance": []
  },
  "kernelspec": {
   "display_name": "Python 3",
   "name": "python3"
  },
  "language_info": {
   "name": "python",
   "version": "3.12.3"
  }
 },
 "nbformat": 4,
 "nbformat_minor": 0
}
